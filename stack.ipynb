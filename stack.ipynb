{
 "cells": [
  {
   "cell_type": "code",
   "execution_count": 3,
   "metadata": {
    "collapsed": true
   },
   "outputs": [],
   "source": [
    "import numpy as np"
   ]
  },
  {
   "cell_type": "code",
   "execution_count": 443,
   "metadata": {
    "collapsed": true
   },
   "outputs": [],
   "source": [
    "class my_stack():\n",
    "    \n",
    "    def __init__(self):\n",
    "        \n",
    "        self.items = []\n",
    "    \n",
    "    def show(self):\n",
    "        \n",
    "        print (self.items)\n",
    "        \n",
    "    def push(self,item):\n",
    "        \n",
    "        self.items.insert(0, item)\n",
    "        \n",
    "    def pop(self):\n",
    "        if (self.items == []):\n",
    "            return self.items\n",
    "        \n",
    "        else:\n",
    "            return self.items.pop(0)\n",
    "        \n",
    "    def peek(self):\n",
    "        if (self.items == []):\n",
    "            return\n",
    "        else:\n",
    "            return self.items[0]\n",
    "        \n",
    "    def isEmpty(self):\n",
    "        return(self.items == [])\n",
    "\n",
    "    def size(self):\n",
    "        return len(self.items)\n",
    "    \n",
    "def parbalancecheck(string_check):\n",
    "    \n",
    "    our_stack = my_stack()\n",
    "    balanced = True\n",
    "    \n",
    "    for c in string_check:\n",
    "        if (c == \"(\"):\n",
    "            our_stack.push(c)\n",
    "            \n",
    "        elif (our_stack.isEmpty() or our_stack.peek() != \"(\"):\n",
    "            balanced = False\n",
    "\n",
    "        else:\n",
    "            our_stack.pop()\n",
    "    \n",
    "    if (our_stack.isEmpty() and balanced):\n",
    "        print (\"Parenthesis are balanced\")\n",
    "    else:\n",
    "        print (\"Parenthesis are unbalanced\")\n",
    "        \n",
    "def matches(char, symbol):\n",
    "        \n",
    "    if (char == \"}\" and symbol == \"{\"):\n",
    "        return True\n",
    "\n",
    "    elif (char == \"]\" and symbol == \"[\"):\n",
    "        return True\n",
    "\n",
    "    elif (char == \")\" and symbol == \"(\"):\n",
    "        return True\n",
    "\n",
    "    else:\n",
    "        return False\n",
    "        \n",
    "def symb_bal_check(string):\n",
    "    our_stack = my_stack()\n",
    "    balanced = True\n",
    "    \n",
    "    for c in string:\n",
    "        if (c == \"{\" or c == \"[\" or c == \"(\"):\n",
    "            our_stack.push(c)\n",
    "            \n",
    "        if (c == \"}\" or c == \"]\" or c == \")\"):\n",
    "            if (our_stack.isEmpty() or not matches(c, our_stack.peek())):\n",
    "                balanced = False\n",
    "                break\n",
    "            else:\n",
    "                our_stack.pop()\n",
    "            \n",
    "    if (our_stack.isEmpty() and balanced):\n",
    "        print (\"Balanced symbols\")\n",
    "    else:\n",
    "        print (\"Unbalanced symbols\")\n",
    "        \n",
    "        \n",
    "def dec_to_binary(decimal):\n",
    "    \n",
    "    remstack = my_stack()\n",
    "    \n",
    "    quot = decimal // 2\n",
    "    rem = decimal % 2\n",
    "    \n",
    "    remstack.push(rem)\n",
    "    \n",
    "    while(quot > 0):\n",
    "        rem = quot % 2\n",
    "        quot = quot // 2\n",
    "        remstack.push(rem)\n",
    "        \n",
    "    binstring = \"\"\n",
    "    while (not remstack.isEmpty()):\n",
    "        binstring += str(remstack.pop())\n",
    "        \n",
    "    return binstring\n",
    "\n",
    "def base_converter(decimal, base):\n",
    "    \n",
    "    digits = \"0123456789ABCDEF\"\n",
    "    \n",
    "    remstack = my_stack()\n",
    "    \n",
    "    quot = decimal // base\n",
    "    rem = decimal % base\n",
    "    \n",
    "    remstack.push(rem)\n",
    "    \n",
    "    while(quot > 0):\n",
    "        rem = quot % 2\n",
    "        quot = quot // 2\n",
    "        remstack.push(rem)\n",
    "        \n",
    "    base_string = \"\"\n",
    "    while (not remstack.isEmpty()):\n",
    "        base_string += str(digits[remstack.pop()])\n",
    "        \n",
    "    return base_string\n",
    "\n",
    "def in_to_post(expr):\n",
    "    \n",
    "    opstack = my_stack()\n",
    "    post = []\n",
    "    prec = {}\n",
    "    prec[\"*\"] = 3\n",
    "    prec[\"/\"] = 3\n",
    "    prec[\"+\"] = 2\n",
    "    prec[\"-\"] = 2\n",
    "    prec[\"(\"] = 1\n",
    "    prec[\")\"] = 1\n",
    "    \n",
    "    operands = \"ABCDEFGHIJKLMNOPQRSTUVWXYZ0123456789\"\n",
    "    operators = \"*/+-\"\n",
    "    \n",
    "    for c in expr:\n",
    "        if (c in operands):\n",
    "            post.insert(len(post), c)\n",
    "            opstack.show()\n",
    "            print post\n",
    "            print \"\"\n",
    "        \n",
    "        if (c == \"(\"):\n",
    "            opstack.push(c)\n",
    "            opstack.show()\n",
    "            print post\n",
    "            print \"\"\n",
    "        \n",
    "        if (c == \")\"):\n",
    "            \n",
    "            popped = opstack.pop()\n",
    "            while (popped != \"(\"):\n",
    "                if (popped in operators):\n",
    "                    post.insert(len(post),popped)\n",
    "                    opstack.show()\n",
    "                    print post\n",
    "                    print \"\"\n",
    "                    \n",
    "                popped = opstack.pop()\n",
    "                opstack.show()\n",
    "                print post\n",
    "                print \"\"\n",
    "                \n",
    "            opstack.show()\n",
    "            print post\n",
    "            print \"\"\n",
    "            \n",
    "        if (c in operators):\n",
    "            if (not opstack.isEmpty()):\n",
    "                print (prec[opstack.peek()], prec[c])\n",
    "                \n",
    "            while ((not opstack.isEmpty()) and (prec[opstack.peek()] > prec[c])):\n",
    "                post.insert(len(post), opstack.pop())\n",
    "                opstack.show()\n",
    "                print post\n",
    "                print \"\"\n",
    "                \n",
    "            opstack.push(c)\n",
    "            opstack.show()\n",
    "            print post\n",
    "            print \"\"\n",
    "    \n",
    "    while(not opstack.isEmpty()):\n",
    "        post.insert(len(post), opstack.pop())\n",
    "        opstack.show()\n",
    "        print post\n",
    "        print \"\"\n",
    "        \n",
    "    print post\n",
    "    post_stack = my_stack()\n",
    "    for i in range(len(post)-1, -1, -1):\n",
    "        post_stack.push(post[i])\n",
    "    \n",
    "    return post_stack\n",
    "\n",
    "def post_process(post):\n",
    "    \n",
    "    operations = \"*/+-\"\n",
    "    numberstack = my_stack()\n",
    "    answer = 0\n",
    "    \n",
    "    while (not post.isEmpty()):\n",
    "        pop = post.pop()\n",
    "        #print pop\n",
    "        \n",
    "        if (pop in operations):\n",
    "            numb = numberstack.pop()\n",
    "            #print numb\n",
    "            numb1 = int(numb)\n",
    "            numb = numberstack.pop()\n",
    "            #print numb\n",
    "            numb2 = int(numb)\n",
    "            \n",
    "            if (pop == \"*\"):\n",
    "                answer = (numb2 * numb1)\n",
    "                numberstack.push(answer)\n",
    "                \n",
    "            if (pop == \"/\"):\n",
    "                answer = (numb2 // numb1)\n",
    "                numberstack.push(answer)\n",
    "            \n",
    "            if (pop == \"+\"):\n",
    "                answer = (numb2 + numb1)\n",
    "                numberstack.push(answer)\n",
    "                \n",
    "            if (pop == \"-\"):\n",
    "                answer = (numb2 - numb1)\n",
    "                numberstack.push(answer)\n",
    "                \n",
    "            #print answer\n",
    "            \n",
    "        else:\n",
    "            numberstack.push(pop)\n",
    "            #numberstack.show()\n",
    "            \n",
    "    return numberstack.peek()"
   ]
  },
  {
   "cell_type": "code",
   "execution_count": 446,
   "metadata": {},
   "outputs": [
    {
     "name": "stdout",
     "output_type": "stream",
     "text": [
      "['(']\n",
      "[]\n",
      "\n",
      "['(']\n",
      "['1']\n",
      "\n",
      "(1, 2)\n",
      "['+', '(']\n",
      "['1']\n",
      "\n",
      "['+', '(']\n",
      "['1', '2']\n",
      "\n",
      "['(']\n",
      "['1', '2', '+']\n",
      "\n",
      "[]\n",
      "['1', '2', '+']\n",
      "\n",
      "[]\n",
      "['1', '2', '+']\n",
      "\n",
      "['*']\n",
      "['1', '2', '+']\n",
      "\n",
      "['(', '*']\n",
      "['1', '2', '+']\n",
      "\n",
      "['(', '*']\n",
      "['1', '2', '+', '3']\n",
      "\n",
      "(1, 2)\n",
      "['+', '(', '*']\n",
      "['1', '2', '+', '3']\n",
      "\n",
      "['+', '(', '*']\n",
      "['1', '2', '+', '3', '4']\n",
      "\n",
      "['(', '*']\n",
      "['1', '2', '+', '3', '4', '+']\n",
      "\n",
      "['*']\n",
      "['1', '2', '+', '3', '4', '+']\n",
      "\n",
      "['*']\n",
      "['1', '2', '+', '3', '4', '+']\n",
      "\n",
      "[]\n",
      "['1', '2', '+', '3', '4', '+', '*']\n",
      "\n",
      "['1', '2', '+', '3', '4', '+', '*']\n"
     ]
    }
   ],
   "source": [
    "post = in_to_post(\"( 1 + 2 ) * ( 3 + 4 )\")"
   ]
  },
  {
   "cell_type": "code",
   "execution_count": 447,
   "metadata": {},
   "outputs": [
    {
     "name": "stdout",
     "output_type": "stream",
     "text": [
      "21\n"
     ]
    }
   ],
   "source": [
    "print(post_process(post))"
   ]
  },
  {
   "cell_type": "code",
   "execution_count": 235,
   "metadata": {},
   "outputs": [
    {
     "name": "stdout",
     "output_type": "stream",
     "text": [
      "1011001100101011000100101111110011111110B\n"
     ]
    }
   ],
   "source": [
    "print(base_converter(12312348970987,16))"
   ]
  },
  {
   "cell_type": "code",
   "execution_count": 223,
   "metadata": {},
   "outputs": [
    {
     "name": "stdout",
     "output_type": "stream",
     "text": [
      "1100\n"
     ]
    }
   ],
   "source": [
    "binstring = dec_to_binary(12)\n",
    "print(binstring)"
   ]
  },
  {
   "cell_type": "code",
   "execution_count": 213,
   "metadata": {},
   "outputs": [
    {
     "name": "stdout",
     "output_type": "stream",
     "text": [
      "Parenthesis are unbalanced\n",
      "Unbalanced symbols\n"
     ]
    }
   ],
   "source": [
    "my_string = \"(()()(()\"\n",
    "parbalancecheck(my_string)\n",
    "symb_bal_check(my_string)"
   ]
  },
  {
   "cell_type": "code",
   "execution_count": 147,
   "metadata": {},
   "outputs": [
    {
     "name": "stdout",
     "output_type": "stream",
     "text": [
      "[]\n",
      "['(']\n",
      "Parenthesis are unbalanced\n"
     ]
    }
   ],
   "source": [
    "my_string = \"()))\"\n",
    "parbalancecheck(my_string)"
   ]
  },
  {
   "cell_type": "code",
   "execution_count": 335,
   "metadata": {},
   "outputs": [
    {
     "name": "stdout",
     "output_type": "stream",
     "text": [
      "[]\n",
      "[]\n"
     ]
    }
   ],
   "source": [
    "mystack = my_stack()\n",
    "mystack.show()\n",
    "mystack.pop()\n",
    "mystack.show()"
   ]
  },
  {
   "cell_type": "code",
   "execution_count": 336,
   "metadata": {
    "collapsed": true
   },
   "outputs": [],
   "source": [
    "mystack.push(3)"
   ]
  },
  {
   "cell_type": "code",
   "execution_count": 337,
   "metadata": {
    "collapsed": true
   },
   "outputs": [],
   "source": [
    "mystack.push(1)"
   ]
  },
  {
   "cell_type": "code",
   "execution_count": 338,
   "metadata": {},
   "outputs": [
    {
     "name": "stdout",
     "output_type": "stream",
     "text": [
      "[1, 3]\n"
     ]
    }
   ],
   "source": [
    "mystack.show()"
   ]
  },
  {
   "cell_type": "code",
   "execution_count": 339,
   "metadata": {},
   "outputs": [
    {
     "name": "stdout",
     "output_type": "stream",
     "text": [
      "[2, 1, 3]\n"
     ]
    }
   ],
   "source": [
    "mystack.push(2)\n",
    "mystack.show()"
   ]
  },
  {
   "cell_type": "code",
   "execution_count": 340,
   "metadata": {},
   "outputs": [
    {
     "data": {
      "text/plain": [
       "2"
      ]
     },
     "execution_count": 340,
     "metadata": {},
     "output_type": "execute_result"
    }
   ],
   "source": [
    "mystack.peek()"
   ]
  },
  {
   "cell_type": "code",
   "execution_count": 341,
   "metadata": {},
   "outputs": [
    {
     "data": {
      "text/plain": [
       "2"
      ]
     },
     "execution_count": 341,
     "metadata": {},
     "output_type": "execute_result"
    }
   ],
   "source": [
    "mystack.pop()"
   ]
  },
  {
   "cell_type": "code",
   "execution_count": 45,
   "metadata": {},
   "outputs": [
    {
     "name": "stdout",
     "output_type": "stream",
     "text": [
      "[1, 3]\n"
     ]
    }
   ],
   "source": [
    "mystack.show()"
   ]
  },
  {
   "cell_type": "code",
   "execution_count": 46,
   "metadata": {},
   "outputs": [
    {
     "data": {
      "text/plain": [
       "False"
      ]
     },
     "execution_count": 46,
     "metadata": {},
     "output_type": "execute_result"
    }
   ],
   "source": [
    "mystack.isEmpty()"
   ]
  },
  {
   "cell_type": "code",
   "execution_count": 47,
   "metadata": {},
   "outputs": [
    {
     "data": {
      "text/plain": [
       "2"
      ]
     },
     "execution_count": 47,
     "metadata": {},
     "output_type": "execute_result"
    }
   ],
   "source": [
    "mystack.size()"
   ]
  },
  {
   "cell_type": "code",
   "execution_count": 48,
   "metadata": {
    "collapsed": true
   },
   "outputs": [],
   "source": [
    "mystack.pop()"
   ]
  },
  {
   "cell_type": "code",
   "execution_count": 49,
   "metadata": {},
   "outputs": [
    {
     "name": "stdout",
     "output_type": "stream",
     "text": [
      "[3]\n"
     ]
    }
   ],
   "source": [
    "mystack.show()"
   ]
  },
  {
   "cell_type": "code",
   "execution_count": 50,
   "metadata": {},
   "outputs": [
    {
     "data": {
      "text/plain": [
       "False"
      ]
     },
     "execution_count": 50,
     "metadata": {},
     "output_type": "execute_result"
    }
   ],
   "source": [
    "mystack.isEmpty()"
   ]
  },
  {
   "cell_type": "code",
   "execution_count": 51,
   "metadata": {
    "collapsed": true
   },
   "outputs": [],
   "source": [
    "mystack.pop()"
   ]
  },
  {
   "cell_type": "code",
   "execution_count": 52,
   "metadata": {
    "collapsed": true
   },
   "outputs": [],
   "source": [
    "mystack.peek()"
   ]
  },
  {
   "cell_type": "code",
   "execution_count": 239,
   "metadata": {
    "collapsed": true
   },
   "outputs": [],
   "source": [
    "mystr = str(\"this\")"
   ]
  },
  {
   "cell_type": "code",
   "execution_count": 242,
   "metadata": {
    "collapsed": true
   },
   "outputs": [],
   "source": [
    "splitthis = mystr.split()"
   ]
  },
  {
   "cell_type": "code",
   "execution_count": 244,
   "metadata": {},
   "outputs": [
    {
     "name": "stdout",
     "output_type": "stream",
     "text": [
      "t\n"
     ]
    }
   ],
   "source": [
    "print(splitthis[0][0])"
   ]
  },
  {
   "cell_type": "code",
   "execution_count": 367,
   "metadata": {},
   "outputs": [
    {
     "name": "stdout",
     "output_type": "stream",
     "text": [
      "1\n"
     ]
    }
   ],
   "source": [
    "print (int(c))"
   ]
  },
  {
   "cell_type": "code",
   "execution_count": 488,
   "metadata": {
    "collapsed": true
   },
   "outputs": [],
   "source": [
    "def parbalchk(expr):\n",
    "    \n",
    "    par_stack = my_stack()\n",
    "    balanced = True\n",
    "    \n",
    "    for c in expr:\n",
    "        if (c == \"(\"):\n",
    "            par_stack.push(c)\n",
    "            \n",
    "        elif (c == \")\"):\n",
    "            if (par_stack.isEmpty()):\n",
    "                balanced = False\n",
    "                break\n",
    "            else:\n",
    "                par_stack.pop()\n",
    "                \n",
    "    if ( par_stack.isEmpty() and balanced):\n",
    "        print (\"Balanced\")\n",
    "        \n",
    "    elif (not par_stack.isEmpty() and balanced):\n",
    "        print (\"Unbalanced\")\n",
    "            \n",
    "def balchk(expr):\n",
    "    \n",
    "    par_stack = my_stack()\n",
    "    balanced = True\n",
    "    \n",
    "    left_symbol = \"({[\"\n",
    "    right_symbol = \")}]\"\n",
    "    \n",
    "    for c in expr:\n",
    "        #print (c)\n",
    "        if (c in left_symbol):\n",
    "            par_stack.push(c)\n",
    "            #par_stack.show()\n",
    "            \n",
    "        elif (c in right_symbol):\n",
    "            if (par_stack.isEmpty()):\n",
    "                print (\"Unbalanced\")\n",
    "                balanced = False\n",
    "                break\n",
    "            elif ((c == \"]\" and par_stack.peek() == \"[\") or (c == \"}\" and par_stack.peek() == \"{\") or (c == \")\" and par_stack.peek() == \"(\")):\n",
    "                #par_stack.show()\n",
    "                par_stack.pop()\n",
    "                #par_stack.show()\n",
    "                #print (\"\")\n",
    "            else:\n",
    "                print(\"Unbalanced\")\n",
    "                balanced = False\n",
    "                break\n",
    "                \n",
    "    if ( par_stack.isEmpty() and balanced):\n",
    "        print (\"Balanced\")\n",
    "        \n",
    "    elif (not par_stack.isEmpty() and balanced):\n",
    "        print (\"Unbalanced\")\n",
    "        \n"
   ]
  },
  {
   "cell_type": "code",
   "execution_count": 491,
   "metadata": {},
   "outputs": [
    {
     "name": "stdout",
     "output_type": "stream",
     "text": [
      "Balanced\n"
     ]
    }
   ],
   "source": [
    "expr = \"[ ] [ ] [ ] ( ) { }\"\n",
    "balchk(expr)"
   ]
  },
  {
   "cell_type": "code",
   "execution_count": 2,
   "metadata": {
    "collapsed": true
   },
   "outputs": [],
   "source": [
    "class stack():\n",
    "    \n",
    "    def __init__(self):\n",
    "        \n",
    "        self.items = []\n",
    "        \n",
    "    def show(self):\n",
    "        print self.items\n",
    "        \n",
    "    def push(self, item):\n",
    "        return self.items.insert(0,item)\n",
    "    \n",
    "    def pop(self):\n",
    "        if (self.items == []):\n",
    "            return\n",
    "        \n",
    "        else:\n",
    "            return self.items.pop(0)\n",
    "        \n",
    "    def peek(self):\n",
    "        if (self.items == []):\n",
    "            return\n",
    "        \n",
    "        else:\n",
    "            return self.items[0]\n",
    "        \n",
    "    def isEmpty(self):\n",
    "        if (self.items == []):\n",
    "            return True\n",
    "        else:\n",
    "            return False\n",
    "        \n",
    "    def size(self):\n",
    "        return len(self.items)"
   ]
  },
  {
   "cell_type": "code",
   "execution_count": 11,
   "metadata": {},
   "outputs": [
    {
     "name": "stdout",
     "output_type": "stream",
     "text": [
      "[]\n",
      "[]\n"
     ]
    },
    {
     "data": {
      "text/plain": [
       "True"
      ]
     },
     "execution_count": 11,
     "metadata": {},
     "output_type": "execute_result"
    }
   ],
   "source": [
    "mystack = stack()\n",
    "mystack.show()\n",
    "mystack.pop()\n",
    "mystack.show()\n",
    "mystack.isEmpty()"
   ]
  },
  {
   "cell_type": "code",
   "execution_count": 12,
   "metadata": {},
   "outputs": [
    {
     "name": "stdout",
     "output_type": "stream",
     "text": [
      "[1, 3]\n"
     ]
    }
   ],
   "source": [
    "mystack.push(3)\n",
    "mystack.push(1)\n",
    "mystack.show()"
   ]
  },
  {
   "cell_type": "code",
   "execution_count": 13,
   "metadata": {},
   "outputs": [
    {
     "name": "stdout",
     "output_type": "stream",
     "text": [
      "[2, 1, 3]\n"
     ]
    }
   ],
   "source": [
    "mystack.push(2)\n",
    "mystack.show()"
   ]
  },
  {
   "cell_type": "code",
   "execution_count": 14,
   "metadata": {},
   "outputs": [
    {
     "data": {
      "text/plain": [
       "2"
      ]
     },
     "execution_count": 14,
     "metadata": {},
     "output_type": "execute_result"
    }
   ],
   "source": [
    "mystack.peek()"
   ]
  },
  {
   "cell_type": "code",
   "execution_count": 15,
   "metadata": {},
   "outputs": [
    {
     "data": {
      "text/plain": [
       "2"
      ]
     },
     "execution_count": 15,
     "metadata": {},
     "output_type": "execute_result"
    }
   ],
   "source": [
    "mystack.pop()"
   ]
  },
  {
   "cell_type": "code",
   "execution_count": 16,
   "metadata": {},
   "outputs": [
    {
     "data": {
      "text/plain": [
       "False"
      ]
     },
     "execution_count": 16,
     "metadata": {},
     "output_type": "execute_result"
    }
   ],
   "source": [
    "mystack.isEmpty()"
   ]
  },
  {
   "cell_type": "code",
   "execution_count": 17,
   "metadata": {},
   "outputs": [
    {
     "data": {
      "text/plain": [
       "2"
      ]
     },
     "execution_count": 17,
     "metadata": {},
     "output_type": "execute_result"
    }
   ],
   "source": [
    "mystack.size()"
   ]
  },
  {
   "cell_type": "code",
   "execution_count": 18,
   "metadata": {
    "collapsed": true
   },
   "outputs": [],
   "source": [
    "def balchk(expr):\n",
    "    \n",
    "    myStack = stack()\n",
    "    balanced = True\n",
    "    \n",
    "    leftExpr = \"([{\"\n",
    "    rightExpr = \")]}\"\n",
    "    \n",
    "    for c in expr:\n",
    "        if c in leftExpr:\n",
    "            myStack.push(c)\n",
    "            \n",
    "        elif c in rightExpr:\n",
    "            if (myStack.isEmpty()):\n",
    "                balanced = False\n",
    "                break\n",
    "                \n",
    "            elif ( (c == \")\" and myStack.peek() == \"(\") or (c == \"]\" and myStack.peek() == \"[\") or (c == \"}\" and myStack.peek() == \"{\") ):\n",
    "                myStack.pop()\n",
    "                \n",
    "            else:\n",
    "                balanced = False\n",
    "                break\n",
    "                \n",
    "    if (not myStack.isEmpty()):\n",
    "        print(\"Unbalanced\")\n",
    "        return False\n",
    "    else:\n",
    "        print (\"Balanced\")\n",
    "        return True"
   ]
  },
  {
   "cell_type": "code",
   "execution_count": 20,
   "metadata": {},
   "outputs": [
    {
     "name": "stdout",
     "output_type": "stream",
     "text": [
      "Unbalanced\n"
     ]
    },
    {
     "data": {
      "text/plain": [
       "False"
      ]
     },
     "execution_count": 20,
     "metadata": {},
     "output_type": "execute_result"
    }
   ],
   "source": [
    "expr = \"[ ] [ ] [ ] ( ) { }\"\n",
    "balchk(expr)"
   ]
  },
  {
   "cell_type": "code",
   "execution_count": null,
   "metadata": {
    "collapsed": true
   },
   "outputs": [],
   "source": []
  }
 ],
 "metadata": {
  "kernelspec": {
   "display_name": "Python 2",
   "language": "python",
   "name": "python2"
  },
  "language_info": {
   "codemirror_mode": {
    "name": "ipython",
    "version": 2
   },
   "file_extension": ".py",
   "mimetype": "text/x-python",
   "name": "python",
   "nbconvert_exporter": "python",
   "pygments_lexer": "ipython2",
   "version": "2.7.14"
  }
 },
 "nbformat": 4,
 "nbformat_minor": 2
}
